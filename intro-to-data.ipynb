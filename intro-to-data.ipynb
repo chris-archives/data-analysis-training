{
 "cells": [
  {
   "cell_type": "markdown",
   "metadata": {},
   "source": [
    "# Introduction - Data Analysis with Python\n",
    "\n",
    "> ### What is Data Analysis?\n",
    "\n",
    "Data analysis is the process of inspecting, cleansing, transforming, and modeling data with the goal of discovering **useful information**, informing conclusions and **supporting decision making**.\n",
    "\n",
    "> ### Process of Data Analysis**\n",
    "\n",
    "Note that in actual data analyst this process is not linear and looks more like a cycle than a striaght line.\n",
    "\n",
    "![alt text](src/data-analyst-process.png)\n",
    "\n",
    "> ### Different Between Data Analyst and Data Science\n",
    "\n",
    "The boundaries between data science and data analyst aren't clear, the main difference is that data scientists have more knowledge in programming and math, allowing them to implement machine learning models and ETL. On the other hand data analysts have better communication and decision making skills.\n",
    "\n",
    "![alt text](src/data-vs-science.png)\n"
   ]
  }
 ],
 "metadata": {
  "language_info": {
   "name": "python"
  }
 },
 "nbformat": 4,
 "nbformat_minor": 2
}
