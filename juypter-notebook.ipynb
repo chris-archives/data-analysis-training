{
 "cells": [
  {
   "cell_type": "markdown",
   "metadata": {},
   "source": [
    "# How  to use Jupyter Notebook\n",
    "\n",
    "![green-divider](https://user-images.githubusercontent.com/7065401/52071924-c003ad80-2562-11e9-8297-1c6595f8a7ff.png)\n",
    "\n",
    "> ### What is Jupyter Notebook\n",
    "\n",
    "Jupyter Notebook is essentially a text document integrated with an IDE. On here you can display inline graphs, pull data from databases, or\n",
    "Excel spreadsheets live.\n",
    "\n",
    "> ### Everything in Jupyter Notebook is a \"cell\"\n",
    "\n",
    "This notebook is organized as a group of **cells**, each cell can contains different types of content such as Python code or images and human-readable-text (markdowns). Markdowns are just HTML code basically.\n",
    "\n",
    "> ### Execution Number\n",
    "\n",
    "Every cell that contains code has an execution number which indexes the order in which the cells executed. This is because if you change the order of your cell or the structure of your notebook, the execution order will always be preserved.\n",
    "\n",
    "\n"
   ]
  }
 ],
 "metadata": {
  "language_info": {
   "name": "python"
  }
 },
 "nbformat": 4,
 "nbformat_minor": 2
}
